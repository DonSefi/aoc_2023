{
 "cells": [
  {
   "cell_type": "code",
   "execution_count": 1,
   "id": "abfb7525-a843-4d69-9579-94ecdce38c62",
   "metadata": {},
   "outputs": [],
   "source": [
    "from aocd import get_data\n",
    "import math\n"
   ]
  },
  {
   "cell_type": "code",
   "execution_count": 2,
   "id": "7320b6b1-4371-46a8-afb9-f313e41198f2",
   "metadata": {},
   "outputs": [],
   "source": [
    "data= get_data(day=2,year=2023)"
   ]
  },
  {
   "cell_type": "code",
   "execution_count": 3,
   "id": "52048256-6ed5-4c1e-b0b0-0190bb010d7c",
   "metadata": {},
   "outputs": [
    {
     "data": {
      "text/plain": [
       "'Game 1: 13 red, 18 green; 5 green, 3 red, 5 blue; 5 green, 9 red, 6 blue; 3 blue, 3 green\\nGame 2: 2 green, 3 blue, 5 red; 9 green, 4 red, 2 blue; 4 green, 3 blue; 2 blue, 3 red; 5 red, 3 blue, 9 green; 9 green, 5 red, 2 blue\\nGame 3: 12 green, 3 red, 3 blue; 2 blue, 5 green, 2 red; 2 red, 3 blue, 11 green; 2 red, 8 green, 7 blue\\nGame 4: 1 green, 2 blue; 7 green, 13 red; 2 blue, 5 green, 7 red; 6 green, 2 red\\nGame 5: 6 blue, 4 green; 8 blue, 7 green; 1 red, 10 blue\\nGame 6: 4 red, 4 blue, 2 green; 8 green, 1 blue, 8 red; 9 green, 1 red, 3 blue\\nGame 7: 3 red, 12 green, 4 blue; 1 blue, 3 red, 6 green; 4 blue, 3 red, 15 green; 11 green, 2 blue, 2 red\\nGame 8: 13 blue, 7 green, 8 red; 5 green, 8 blue, 2 red; 5 red, 6 blue, 7 green; 6 green, 6 red, 3 blue; 7 blue, 8 red, 6 green\\nGame 9: 4 blue, 1 green, 4 red; 16 red, 1 green, 7 blue; 11 red, 3 green, 7 blue\\nGame 10: 5 green, 1 red; 5 green, 3 blue; 1 red, 7 green, 3 blue; 1 blue, 6 green; 2 green, 4 blue\\nGame 11: 10 green, 2 blue, 2 red; 14 green, 1 blue, 3 red; 13 green; 3 green, 2 red; 3 red, 1 blue, 2 green; 1 red, 10 green, 2 blue\\nGame 12: 9 green, 2 blue; 11 green, 1 blue; 2 red, 1 blue; 1 blue, 2 red, 3 green; 1 blue, 2 red, 3 green\\nGame 13: 11 blue, 3 red, 8 green; 9 red, 7 blue; 7 blue, 4 red\\nGame 14: 17 blue, 2 red; 1 green, 13 blue, 1 red; 4 blue, 1 red, 4 green; 2 blue, 5 red, 13 green; 3 blue, 4 green, 6 red; 9 green, 14 blue, 6 red\\nGame 15: 7 green, 2 blue, 3 red; 4 red, 18 green; 8 green, 1 blue; 3 red, 15 green, 2 blue; 1 red, 15 green; 9 green, 3 red, 1 blue\\nGame 16: 10 red, 19 blue, 5 green; 12 red, 5 blue; 6 red, 3 green, 14 blue; 8 red, 10 blue, 6 green; 7 green, 10 red, 17 blue\\nGame 17: 3 green, 3 red, 1 blue; 3 blue, 1 green, 2 red; 4 green, 3 red, 2 blue\\nGame 18: 1 red, 2 blue; 1 green, 4 blue; 1 blue; 5 blue; 1 green, 3 red, 6 blue\\nGame 19: 3 blue, 5 red, 8 green; 10 red, 6 blue, 11 green; 5 blue, 7 red, 8 green; 9 blue, 6 green, 5 red; 8 red, 12 green, 8 blue; 1 blue, 5 green, 10 red\\nGame 20: 16 blue, 2 green; 10 green, 1 red, 4 blue; 13 green, 5 red, 9 blue\\nGame 21: 1 blue, 1 green, 14 red; 2 blue; 5 green, 1 blue; 2 green, 11 red; 2 red, 4 green; 2 green, 16 red\\nGame 22: 1 green, 10 red, 4 blue; 1 green, 4 blue, 8 red; 2 blue, 8 red; 4 green, 14 red; 1 blue, 5 red, 2 green\\nGame 23: 17 green, 3 red, 16 blue; 9 green, 15 red; 3 red, 8 blue, 15 green\\nGame 24: 1 green, 1 blue; 2 blue, 1 green, 2 red; 3 green, 1 blue, 1 red; 3 blue, 1 red; 2 green, 5 blue\\nGame 25: 11 red, 2 green; 7 red, 6 green; 10 red, 1 blue, 8 green; 8 green, 4 red; 6 green, 10 red; 2 blue, 7 red\\nGame 26: 2 green, 2 blue, 8 red; 1 blue, 1 red, 6 green; 9 red, 6 green, 2 blue\\nGame 27: 5 red, 7 blue, 3 green; 3 blue, 1 red; 1 green, 1 red, 9 blue\\nGame 28: 17 red, 5 green, 10 blue; 3 red, 14 blue, 1 green; 11 blue, 11 green\\nGame 29: 16 red, 4 green, 4 blue; 3 green, 5 blue, 11 red; 7 blue, 8 red, 1 green; 1 green, 10 red, 4 blue; 2 green, 4 blue, 8 red\\nGame 30: 3 green, 6 blue; 18 green, 3 blue; 14 green, 11 blue; 7 blue, 2 red, 17 green; 1 red, 12 green, 7 blue\\nGame 31: 11 red, 2 green, 3 blue; 10 green, 11 blue, 15 red; 12 green, 17 blue, 5 red; 5 green, 2 red, 12 blue; 13 blue, 13 green, 4 red\\nGame 32: 4 red, 2 blue, 5 green; 7 blue, 15 red; 11 blue, 4 green, 8 red\\nGame 33: 18 blue, 3 green, 3 red; 3 green, 6 red; 2 blue, 4 red, 1 green; 3 green, 5 red, 3 blue\\nGame 34: 5 red, 2 blue, 16 green; 9 red, 10 blue, 3 green; 8 red, 10 green, 13 blue\\nGame 35: 7 blue, 5 red; 3 red, 1 blue; 4 blue, 7 red, 1 green; 4 red, 4 blue, 1 green; 3 blue, 7 red; 4 red, 1 green, 3 blue\\nGame 36: 14 blue; 10 blue, 1 green; 10 blue, 4 green; 4 blue, 1 green, 1 red; 1 red, 6 blue, 4 green; 1 green, 1 red, 11 blue\\nGame 37: 8 red, 13 green, 5 blue; 11 red, 16 green, 8 blue; 2 green, 10 blue, 11 red\\nGame 38: 2 red, 1 blue, 10 green; 7 red, 6 blue, 14 green; 18 red, 1 blue, 5 green; 5 green, 5 blue, 13 red; 14 red, 5 green; 15 green, 13 red, 2 blue\\nGame 39: 1 blue, 5 red; 9 red, 9 green; 4 blue, 10 green, 4 red; 3 green, 11 red, 1 blue; 2 green, 11 red, 4 blue\\nGame 40: 9 blue, 4 green; 12 green, 1 red; 2 red, 15 green, 10 blue\\nGame 41: 1 blue, 14 red, 12 green; 16 green, 2 blue, 3 red; 6 green, 9 red\\nGame 42: 4 green, 13 red, 9 blue; 9 green, 9 red, 4 blue; 7 blue, 10 red, 9 green; 4 green, 18 blue, 14 red; 9 blue, 7 green, 2 red\\nGame 43: 7 red, 6 blue; 4 green; 3 red, 6 green; 7 blue, 6 green, 8 red; 9 green, 7 blue, 7 red; 5 blue, 5 green, 6 red\\nGame 44: 5 red, 8 blue; 2 red, 5 green; 6 green, 11 blue, 2 red; 1 green, 1 blue, 2 red\\nGame 45: 3 blue, 7 green, 1 red; 5 red, 1 blue; 2 blue, 3 red; 8 green, 5 red\\nGame 46: 4 red, 4 blue, 17 green; 1 blue, 5 green, 1 red; 1 red, 1 blue, 7 green; 18 green, 7 blue\\nGame 47: 14 red, 3 green, 2 blue; 4 green, 4 red, 2 blue; 13 red, 1 blue\\nGame 48: 5 red, 12 blue, 2 green; 3 blue, 1 red, 2 green; 10 blue, 7 red\\nGame 49: 6 blue, 11 red; 11 red, 17 blue, 11 green; 16 blue, 12 green, 6 red\\nGame 50: 12 blue, 3 green, 1 red; 3 green, 10 blue, 3 red; 11 blue, 3 red\\nGame 51: 12 green, 1 blue, 8 red; 6 blue, 1 green, 9 red; 17 red, 5 blue; 7 blue, 9 green, 9 red; 13 green, 10 red, 2 blue\\nGame 52: 5 blue, 1 green; 1 red, 1 green, 3 blue; 8 blue, 1 green; 1 green, 7 blue; 3 blue; 1 red, 6 blue\\nGame 53: 11 green, 5 red; 16 green, 6 blue; 4 red, 19 green, 4 blue\\nGame 54: 6 green, 4 blue, 8 red; 7 red, 6 green, 5 blue; 5 blue, 4 red; 5 blue, 14 red\\nGame 55: 11 blue, 1 green; 2 red, 5 blue, 1 green; 10 blue, 1 green; 11 blue; 2 green, 2 red, 5 blue\\nGame 56: 1 red, 9 blue, 1 green; 2 red, 8 blue; 1 green, 9 blue, 10 red; 5 blue, 1 green; 15 blue, 1 red; 12 blue, 4 red\\nGame 57: 1 green, 17 blue; 10 blue, 2 green; 2 red, 16 blue; 6 green, 15 blue; 5 green; 2 red, 1 green\\nGame 58: 2 blue, 4 green, 2 red; 5 blue; 5 red, 3 green, 2 blue; 5 red, 2 green, 5 blue; 7 green, 3 red, 4 blue; 4 red\\nGame 59: 8 blue, 2 red, 2 green; 15 blue, 1 green, 4 red; 9 blue, 1 red; 3 green, 5 red, 5 blue\\nGame 60: 3 red, 2 blue, 6 green; 1 red, 5 green; 2 blue, 10 green; 6 green, 2 red\\nGame 61: 6 green, 4 blue; 1 red, 4 blue, 15 green; 1 blue, 16 green, 3 red; 6 red, 12 green, 2 blue; 3 red, 14 green, 1 blue; 3 red, 2 blue, 9 green\\nGame 62: 1 green, 2 red; 4 red; 1 green, 4 red, 1 blue; 1 red, 1 blue, 1 green\\nGame 63: 8 green, 4 red, 4 blue; 5 red, 4 blue, 8 green; 3 green, 1 blue\\nGame 64: 5 blue, 2 green, 5 red; 3 green, 2 blue, 1 red; 6 blue, 2 red, 1 green; 2 green, 2 blue, 3 red; 3 blue, 1 red\\nGame 65: 2 red, 7 green, 5 blue; 8 blue, 3 green, 4 red; 1 red, 6 green, 1 blue\\nGame 66: 1 green, 6 red; 5 red, 1 green, 1 blue; 4 red, 1 blue, 1 green; 1 blue, 2 red, 1 green; 1 blue, 5 red; 1 blue, 8 red\\nGame 67: 6 red, 8 blue, 8 green; 5 green, 2 red, 10 blue; 4 red, 1 green; 7 blue, 2 green\\nGame 68: 7 green, 9 red, 15 blue; 4 green, 6 red, 3 blue; 1 blue, 5 green, 4 red; 9 green, 14 red, 6 blue; 8 blue, 15 red, 4 green; 7 green, 14 blue, 6 red\\nGame 69: 4 green; 2 blue; 4 green, 8 blue, 11 red; 3 green, 9 red, 4 blue; 1 red, 2 blue; 2 green, 5 blue, 11 red\\nGame 70: 6 blue, 16 green, 4 red; 6 green, 13 red, 2 blue; 7 green, 1 red, 2 blue; 8 green, 4 blue, 1 red; 10 red, 11 green\\nGame 71: 6 blue, 7 red; 10 blue, 2 green, 4 red; 12 red, 10 blue, 1 green\\nGame 72: 13 red, 13 blue; 6 red, 10 blue, 7 green; 3 blue, 5 green, 4 red; 8 green, 9 blue\\nGame 73: 1 red, 1 green, 8 blue; 1 green, 8 blue; 2 green, 6 blue; 2 blue; 1 red, 12 blue; 12 blue, 3 green\\nGame 74: 2 blue, 1 green, 1 red; 3 blue, 1 red, 1 green; 3 blue, 2 red; 3 blue, 1 red; 1 green\\nGame 75: 10 red, 1 green, 4 blue; 12 red, 11 blue, 9 green; 18 green, 14 red, 5 blue\\nGame 76: 4 blue, 3 green, 11 red; 4 blue, 1 green, 12 red; 11 blue, 2 green, 4 red; 2 blue, 2 green, 11 red; 12 red, 1 blue; 4 red, 2 green, 15 blue\\nGame 77: 2 red, 10 blue, 6 green; 6 blue, 2 red, 8 green; 1 red, 9 green, 7 blue\\nGame 78: 3 green, 10 red; 2 blue, 4 red, 3 green; 8 red, 3 blue, 4 green; 1 blue, 7 red\\nGame 79: 4 green, 2 red; 2 red, 14 green; 1 blue, 5 green, 8 red; 4 red, 20 green; 3 green, 1 blue, 8 red; 4 green, 1 blue\\nGame 80: 2 green; 3 green, 13 red, 10 blue; 6 blue, 10 red, 1 green; 10 green, 12 red, 3 blue; 10 blue, 17 red, 5 green; 8 red, 2 blue, 6 green\\nGame 81: 4 green, 2 blue, 4 red; 16 red, 1 blue, 20 green; 7 blue, 10 red, 9 green; 7 blue, 2 green, 14 red\\nGame 82: 4 blue, 8 green, 5 red; 14 red, 8 blue, 1 green; 11 red, 13 green\\nGame 83: 2 blue, 2 green, 10 red; 10 green, 4 red, 3 blue; 11 green, 14 red, 4 blue; 2 blue, 11 red; 3 blue, 1 green, 4 red\\nGame 84: 12 blue, 9 green, 10 red; 1 red, 6 green, 4 blue; 7 red, 3 green, 16 blue; 3 green, 3 blue\\nGame 85: 2 red, 4 blue; 4 blue, 1 green, 6 red; 9 blue, 1 red; 1 green, 4 blue, 10 red; 5 green, 7 red, 17 blue\\nGame 86: 2 red, 3 blue, 1 green; 2 blue, 2 red, 2 green; 10 blue, 2 green; 5 green, 4 red, 6 blue\\nGame 87: 1 red, 7 blue, 9 green; 3 green, 2 blue; 1 red, 4 blue, 10 green; 10 green, 7 blue, 1 red; 6 blue, 9 green; 9 blue, 7 green, 1 red\\nGame 88: 1 blue, 14 red, 9 green; 4 green, 9 red; 8 green, 1 blue, 10 red\\nGame 89: 13 red, 1 green; 2 blue, 10 red; 1 green, 3 blue, 13 red; 1 green, 14 red, 3 blue; 2 green, 6 red; 1 green, 12 red\\nGame 90: 1 red, 2 blue, 9 green; 1 blue, 3 red, 2 green; 10 green, 9 red; 1 red, 9 green, 4 blue; 3 blue, 13 green, 13 red\\nGame 91: 2 red, 8 green, 8 blue; 3 green, 2 red, 6 blue; 5 green, 4 red\\nGame 92: 8 green, 12 blue, 4 red; 7 red, 4 green; 4 blue, 7 green, 7 red; 7 blue, 5 green\\nGame 93: 1 green, 1 red, 2 blue; 3 green, 1 red, 3 blue; 1 red, 8 blue; 1 green, 13 blue; 1 red, 4 blue, 4 green\\nGame 94: 2 blue, 7 red, 17 green; 2 green, 1 blue, 5 red; 3 blue, 7 green, 1 red; 6 red, 1 blue, 1 green; 1 green, 1 blue, 1 red\\nGame 95: 4 blue, 3 green, 4 red; 17 red, 2 blue; 6 blue, 16 green, 15 red; 7 blue, 17 green; 1 red, 3 green, 3 blue; 7 red, 14 green, 4 blue\\nGame 96: 6 red, 3 blue; 7 green, 5 blue, 10 red; 9 green, 1 blue; 6 blue, 1 red, 12 green; 3 blue, 10 green\\nGame 97: 3 green, 1 red, 13 blue; 1 red, 8 green, 2 blue; 1 green, 2 blue, 2 red; 1 red, 4 green, 9 blue\\nGame 98: 1 green, 8 red, 7 blue; 8 blue, 8 red, 3 green; 1 blue, 2 red; 4 red, 7 blue; 3 green, 3 blue, 3 red\\nGame 99: 9 blue, 14 red; 3 blue, 10 red, 5 green; 3 blue, 3 green, 6 red\\nGame 100: 12 blue, 2 green; 2 green, 4 red, 13 blue; 9 blue, 1 red, 2 green; 2 green, 3 red, 1 blue'"
      ]
     },
     "execution_count": 3,
     "metadata": {},
     "output_type": "execute_result"
    }
   ],
   "source": [
    "data"
   ]
  },
  {
   "cell_type": "code",
   "execution_count": 4,
   "id": "056a4e17-71f2-4f8d-8903-f858081ec405",
   "metadata": {},
   "outputs": [],
   "source": [
    "test_data=\"\"\"Game 1: 3 blue, 4 red; 1 red, 2 green, 6 blue; 2 green\n",
    "Game 2: 1 blue, 2 green; 3 green, 4 blue, 1 red; 1 green, 1 blue\n",
    "Game 3: 8 green, 6 blue, 20 red; 5 blue, 4 red, 13 green; 5 green, 1 red\n",
    "Game 4: 1 green, 3 red, 6 blue; 3 green, 6 red; 3 green, 15 blue, 14 red\n",
    "Game 5: 6 red, 1 blue, 3 green; 2 blue, 1 red, 2 green\"\"\""
   ]
  },
  {
   "cell_type": "code",
   "execution_count": 5,
   "id": "a756897a-c498-488d-aa50-93b228b9a465",
   "metadata": {},
   "outputs": [
    {
     "data": {
      "text/plain": [
       "'Game 1: 3 blue, 4 red; 1 red, 2 green, 6 blue; 2 green\\nGame 2: 1 blue, 2 green; 3 green, 4 blue, 1 red; 1 green, 1 blue\\nGame 3: 8 green, 6 blue, 20 red; 5 blue, 4 red, 13 green; 5 green, 1 red\\nGame 4: 1 green, 3 red, 6 blue; 3 green, 6 red; 3 green, 15 blue, 14 red\\nGame 5: 6 red, 1 blue, 3 green; 2 blue, 1 red, 2 green'"
      ]
     },
     "execution_count": 5,
     "metadata": {},
     "output_type": "execute_result"
    }
   ],
   "source": [
    "test_data"
   ]
  },
  {
   "cell_type": "code",
   "execution_count": 6,
   "id": "6311de4c-ef08-485c-b675-7d2676c37870",
   "metadata": {},
   "outputs": [],
   "source": [
    "def check_game(game,limit):\n",
    "    max_dict={'red':0,'blue':0,'green':0}\n",
    "    id_endpos=game.rfind(\":\")\n",
    "    id=int(game[5:id_endpos])\n",
    "    game_sets=game[id_endpos+1:].split(\";\")\n",
    "    for set in game_sets:\n",
    "        cubes=set.split(',')\n",
    "        for cube in cubes:\n",
    "            (_,n,col)=cube.split(\" \")\n",
    "            n=int(n)\n",
    "            if n>max_dict[col]:\n",
    "                max_dict[col]=n\n",
    "    for col in max_dict.keys():\n",
    "        if max_dict[col]>limit[col]:\n",
    "            return 0\n",
    "    return id\n",
    "    \n",
    "    "
   ]
  },
  {
   "cell_type": "code",
   "execution_count": 10,
   "id": "39db0fe7-5fb9-463d-a42b-32ba20362a46",
   "metadata": {},
   "outputs": [
    {
     "name": "stdout",
     "output_type": "stream",
     "text": [
      "1\n",
      "2\n",
      "0\n",
      "0\n",
      "5\n",
      "total:  8\n"
     ]
    }
   ],
   "source": [
    "cube_limit={'red': 12, 'green': 13, 'blue': 14}\n",
    "\n",
    "games_list=test_data.split(\"\\n\")\n",
    "res=0\n",
    "for game in games_list:\n",
    "    game_id=check_game(game,cube_limit)\n",
    "    res+=game_id\n",
    "    print(game_id)\n",
    "print(\"total: \", res)"
   ]
  },
  {
   "cell_type": "code",
   "execution_count": 11,
   "id": "78c49b28-072e-4066-9b51-f99f18357468",
   "metadata": {},
   "outputs": [
    {
     "data": {
      "text/plain": [
       "'Game 1: 3 blue, 4 red; 1 red, 2 green, 6 blue; 2 green\\nGame 2: 1 blue, 2 green; 3 green, 4 blue, 1 red; 1 green, 1 blue\\nGame 3: 8 green, 6 blue, 20 red; 5 blue, 4 red, 13 green; 5 green, 1 red\\nGame 4: 1 green, 3 red, 6 blue; 3 green, 6 red; 3 green, 15 blue, 14 red\\nGame 5: 6 red, 1 blue, 3 green; 2 blue, 1 red, 2 green'"
      ]
     },
     "execution_count": 11,
     "metadata": {},
     "output_type": "execute_result"
    }
   ],
   "source": [
    "test_data"
   ]
  },
  {
   "cell_type": "code",
   "execution_count": 12,
   "id": "997ac012-2fa5-45f9-9050-3e849a2a5946",
   "metadata": {},
   "outputs": [
    {
     "name": "stdout",
     "output_type": "stream",
     "text": [
      "0\n",
      "2\n",
      "3\n",
      "0\n",
      "5\n",
      "6\n",
      "0\n",
      "8\n",
      "0\n",
      "10\n",
      "0\n",
      "12\n",
      "13\n",
      "0\n",
      "0\n",
      "0\n",
      "17\n",
      "18\n",
      "19\n",
      "0\n",
      "0\n",
      "0\n",
      "0\n",
      "24\n",
      "25\n",
      "26\n",
      "27\n",
      "0\n",
      "0\n",
      "0\n",
      "0\n",
      "0\n",
      "0\n",
      "0\n",
      "35\n",
      "36\n",
      "0\n",
      "0\n",
      "39\n",
      "0\n",
      "0\n",
      "0\n",
      "43\n",
      "44\n",
      "45\n",
      "0\n",
      "0\n",
      "48\n",
      "0\n",
      "50\n",
      "0\n",
      "52\n",
      "0\n",
      "0\n",
      "55\n",
      "0\n",
      "0\n",
      "58\n",
      "0\n",
      "60\n",
      "0\n",
      "62\n",
      "63\n",
      "64\n",
      "65\n",
      "66\n",
      "67\n",
      "0\n",
      "69\n",
      "0\n",
      "71\n",
      "0\n",
      "73\n",
      "74\n",
      "0\n",
      "0\n",
      "77\n",
      "78\n",
      "0\n",
      "0\n",
      "0\n",
      "0\n",
      "0\n",
      "0\n",
      "0\n",
      "86\n",
      "87\n",
      "0\n",
      "0\n",
      "0\n",
      "91\n",
      "92\n",
      "93\n",
      "0\n",
      "0\n",
      "96\n",
      "97\n",
      "98\n",
      "0\n",
      "100\n",
      "total:  2449\n"
     ]
    }
   ],
   "source": [
    "cube_limit={'red': 12, 'green': 13, 'blue': 14}\n",
    "\n",
    "games_list=data.split(\"\\n\")\n",
    "res=0\n",
    "for game in games_list:\n",
    "    game_id=check_game(game,cube_limit)\n",
    "    res+=game_id\n",
    "    print(game_id)\n",
    "print(\"total: \", res)"
   ]
  },
  {
   "cell_type": "markdown",
   "id": "41e17762-950b-4893-94a0-d9b643e76749",
   "metadata": {},
   "source": [
    "## part 2"
   ]
  },
  {
   "cell_type": "code",
   "execution_count": 15,
   "id": "ff74b2e8-3f84-462b-8a1b-5c6cb534968d",
   "metadata": {},
   "outputs": [],
   "source": [
    "def check_game_power(game):\n",
    "    max_dict={'red':0,'blue':0,'green':0}\n",
    "    id_endpos=game.rfind(\":\")\n",
    "    id=int(game[5:id_endpos])\n",
    "    game_sets=game[id_endpos+1:].split(\";\")\n",
    "    for set in game_sets:\n",
    "        cubes=set.split(',')\n",
    "        for cube in cubes:\n",
    "            (_,n,col)=cube.split(\" \")\n",
    "            n=int(n)\n",
    "            if n>max_dict[col]:\n",
    "                max_dict[col]=n\n",
    "    return max_dict['red']*max_dict['blue']*max_dict['green']\n",
    "    "
   ]
  },
  {
   "cell_type": "code",
   "execution_count": 16,
   "id": "0dc0471f-d960-479b-ab6b-c52a63bb18c9",
   "metadata": {},
   "outputs": [
    {
     "name": "stdout",
     "output_type": "stream",
     "text": [
      "48\n",
      "12\n",
      "1560\n",
      "630\n",
      "36\n",
      "total:  2286\n"
     ]
    }
   ],
   "source": [
    "games_list=test_data.split(\"\\n\")\n",
    "res=0\n",
    "for game in games_list:\n",
    "    game_=check_game_power(game)\n",
    "    res+=game_power\n",
    "    print(game_power)\n",
    "print(\"total: \", res)"
   ]
  },
  {
   "cell_type": "code",
   "execution_count": 18,
   "id": "5b6b85c9-9d29-4909-96aa-3fc812cd7e12",
   "metadata": {},
   "outputs": [
    {
     "name": "stdout",
     "output_type": "stream",
     "text": [
      "1404\n",
      "135\n",
      "252\n",
      "182\n",
      "70\n",
      "288\n",
      "180\n",
      "728\n",
      "336\n",
      "28\n",
      "84\n",
      "44\n",
      "792\n",
      "1326\n",
      "144\n",
      "1596\n",
      "36\n",
      "18\n",
      "1080\n",
      "1040\n",
      "160\n",
      "224\n",
      "4080\n",
      "30\n",
      "176\n",
      "108\n",
      "135\n",
      "2618\n",
      "448\n",
      "396\n",
      "3315\n",
      "825\n",
      "324\n",
      "1872\n",
      "49\n",
      "56\n",
      "1760\n",
      "1620\n",
      "440\n",
      "300\n",
      "448\n",
      "2268\n",
      "504\n",
      "330\n",
      "120\n",
      "504\n",
      "112\n",
      "168\n",
      "2244\n",
      "108\n",
      "1547\n",
      "8\n",
      "570\n",
      "420\n",
      "44\n",
      "150\n",
      "204\n",
      "175\n",
      "225\n",
      "60\n",
      "384\n",
      "4\n",
      "160\n",
      "90\n",
      "224\n",
      "8\n",
      "480\n",
      "2025\n",
      "352\n",
      "1248\n",
      "240\n",
      "1352\n",
      "36\n",
      "6\n",
      "2772\n",
      "540\n",
      "180\n",
      "120\n",
      "160\n",
      "1700\n",
      "2240\n",
      "1456\n",
      "616\n",
      "1440\n",
      "850\n",
      "200\n",
      "90\n",
      "126\n",
      "84\n",
      "676\n",
      "256\n",
      "672\n",
      "52\n",
      "357\n",
      "2023\n",
      "720\n",
      "208\n",
      "192\n",
      "630\n",
      "104\n",
      "total:  63981\n"
     ]
    }
   ],
   "source": [
    "games_list=test_data.split(\"\\n\")\n",
    "res=0\n",
    "for game in games_list:\n",
    "    game_power=check_game_power(game)\n",
    "    res+=game_power\n",
    "    print(game_power)\n",
    "print(\"total: \", res)"
   ]
  },
  {
   "cell_type": "code",
   "execution_count": null,
   "id": "bc43588c-0c5f-44e5-befa-f57ffbc4c4ef",
   "metadata": {},
   "outputs": [],
   "source": []
  }
 ],
 "metadata": {
  "kernelspec": {
   "display_name": "Python 3 (ipykernel)",
   "language": "python",
   "name": "python3"
  },
  "language_info": {
   "codemirror_mode": {
    "name": "ipython",
    "version": 3
   },
   "file_extension": ".py",
   "mimetype": "text/x-python",
   "name": "python",
   "nbconvert_exporter": "python",
   "pygments_lexer": "ipython3",
   "version": "3.12.0"
  }
 },
 "nbformat": 4,
 "nbformat_minor": 5
}
