{
 "cells": [
  {
   "cell_type": "code",
   "execution_count": 1,
   "id": "abfb7525-a843-4d69-9579-94ecdce38c62",
   "metadata": {},
   "outputs": [],
   "source": [
    "from aocd import get_data\n",
    "import math\n"
   ]
  },
  {
   "cell_type": "code",
   "execution_count": 2,
   "id": "7320b6b1-4371-46a8-afb9-f313e41198f2",
   "metadata": {},
   "outputs": [],
   "source": [
    "data= get_data(day=6,year=2023)"
   ]
  },
  {
   "cell_type": "code",
   "execution_count": 3,
   "id": "ff2c9934-70a9-435a-9204-f8d0b20f4e21",
   "metadata": {},
   "outputs": [
    {
     "data": {
      "text/plain": [
       "'Time:        48     87     69     81\\nDistance:   255   1288   1117   1623'"
      ]
     },
     "execution_count": 3,
     "metadata": {},
     "output_type": "execute_result"
    }
   ],
   "source": [
    "data"
   ]
  },
  {
   "cell_type": "code",
   "execution_count": 4,
   "id": "45a78d83-73d4-4847-ae94-f8ff765e521c",
   "metadata": {},
   "outputs": [],
   "source": [
    "test_data= \"\"\"Time:      7  15   30\n",
    "Distance:  9  40  200\"\"\""
   ]
  },
  {
   "cell_type": "code",
   "execution_count": 5,
   "id": "ac1cd21c-790c-47f7-932e-823923eeb07e",
   "metadata": {},
   "outputs": [
    {
     "data": {
      "text/plain": [
       "'Time:      7  15   30\\nDistance:  9  40  200'"
      ]
     },
     "execution_count": 5,
     "metadata": {},
     "output_type": "execute_result"
    }
   ],
   "source": [
    "test_data"
   ]
  },
  {
   "cell_type": "markdown",
   "id": "05642d29-3517-4114-893a-bb8ff58a9c5d",
   "metadata": {},
   "source": [
    "This looks like an easy to solve analytics problem. First lets figure out a formula to compute the traveled time based on total time and button-pressed time:\n",
    "\n",
    "d(t_pressed,t_total)=(t_total-t_pressed)*t_pressed\n",
    "\n",
    "d(t_pressed,t_total) > record\n",
    "\n",
    "=>\n",
    "\n",
    "d(t_pressed,t_total)=(t_total-t_pressed)*t_pressed - record =0 Can be solved with p,q-formula\n",
    "\n",
    "-1t_p**2+t_p*t_t-r==0\n",
    "\n",
    "x1,2=0,5t_t+-sqrt(0,5t_t**2-r)"
   ]
  },
  {
   "cell_type": "code",
   "execution_count": 19,
   "id": "5395a652-a7d0-4492-9ddb-6301b1e85780",
   "metadata": {},
   "outputs": [],
   "source": [
    "def winning_options(t_gesamt,t_record):\n",
    "    t_t=t_gesamt\n",
    "    t_r=t_record+1 #we need to be 1 better than the previous record\n",
    "    \n",
    "    x1=0.5*t_t-((0.5*t_t)**2-t_r)**0.5 #Minimum pressed time\n",
    "    x2=0.5*t_t+((0.5*t_t)**2-t_r)**0.5 #Maximum pressed time\n",
    "    \n",
    "    min_p=math.ceil(x1)  #ceil: we need to press a for an integer of time and it needs to be more than the minimum. min_p=2.3 means we need to press 3 ms cuz 2 is not enough\n",
    "    max_p=math.floor(x2) #ceil: we need to press a for an integer of time and it needs to be not more than the maximum. max_p=3.3 means we need to press 3 ms cuz 4 is too long\n",
    "    \n",
    "    print(t_t,t_r)\n",
    "    print(x1,x2)\n",
    "    print(min_p,max_p)\n",
    "    print(1+max_p-min_p)\n",
    "    print(\"----\")\n",
    "    return(1+max_p-min_p)\n",
    "    \n",
    "    "
   ]
  },
  {
   "cell_type": "code",
   "execution_count": 20,
   "id": "70cec9b2-7744-4963-a087-d5490c190ef3",
   "metadata": {},
   "outputs": [],
   "source": [
    "def day6(dat):\n",
    "    tl=dat.split(\"\\n\")[0].split()[1:]\n",
    "    dl=dat.split(\"\\n\")[1].split()[1:]\n",
    "    \n",
    "    res=1\n",
    "    for t,d in zip(tl,dl):\n",
    "        res*=winning_options(int(t),int(d))\n",
    "    print(res)"
   ]
  },
  {
   "cell_type": "code",
   "execution_count": 21,
   "id": "3aa8ab60-ac9c-49d2-98b5-b011cd11df33",
   "metadata": {},
   "outputs": [
    {
     "name": "stdout",
     "output_type": "stream",
     "text": [
      "7 10\n",
      "2.0 5.0\n",
      "2 5\n",
      "4\n",
      "----\n",
      "15 41\n",
      "3.594875162046673 11.405124837953327\n",
      "4 11\n",
      "8\n",
      "----\n",
      "30 201\n",
      "10.101020514433644 19.898979485566358\n",
      "11 19\n",
      "9\n",
      "----\n",
      "288\n"
     ]
    }
   ],
   "source": [
    "day6(test_data)"
   ]
  },
  {
   "cell_type": "code",
   "execution_count": 9,
   "id": "ec7d93d5-2aa2-4162-9136-8b10ccc35e12",
   "metadata": {},
   "outputs": [
    {
     "name": "stdout",
     "output_type": "stream",
     "text": [
      "48 256\n",
      "6.111456180001682 41.88854381999832\n",
      "7 41\n",
      "35\n",
      "----\n",
      "87 1289\n",
      "18.938851818369727 68.06114818163027\n",
      "19 68\n",
      "50\n",
      "----\n",
      "69 1118\n",
      "26.0 43.0\n",
      "26 43\n",
      "18\n",
      "----\n",
      "81 1624\n",
      "36.468871125850725 44.531128874149275\n",
      "37 44\n",
      "8\n",
      "----\n",
      "252000\n"
     ]
    }
   ],
   "source": [
    "day6(data)"
   ]
  },
  {
   "cell_type": "markdown",
   "id": "039abfee-e044-489d-a149-5b18dbef764f",
   "metadata": {},
   "source": [
    "## part 2"
   ]
  },
  {
   "cell_type": "code",
   "execution_count": 15,
   "id": "58674504-3ecf-4ddd-bec4-40cbbb395194",
   "metadata": {},
   "outputs": [
    {
     "data": {
      "text/plain": [
       "'Time:        48     87     69     81\\nDistance:   255   1288   1117   1623'"
      ]
     },
     "execution_count": 15,
     "metadata": {},
     "output_type": "execute_result"
    }
   ],
   "source": [
    "data"
   ]
  },
  {
   "cell_type": "code",
   "execution_count": 16,
   "id": "aa2d6a45-16f6-4fa3-a678-3075c2b06a94",
   "metadata": {},
   "outputs": [
    {
     "name": "stdout",
     "output_type": "stream",
     "text": [
      "48876981 255128811171624\n",
      "5942247.455885168 42934733.54411483\n",
      "5942248 42934733\n",
      "36992486\n",
      "----\n"
     ]
    },
    {
     "data": {
      "text/plain": [
       "36992486"
      ]
     },
     "execution_count": 16,
     "metadata": {},
     "output_type": "execute_result"
    }
   ],
   "source": [
    "winning_options(48876981,255128811171623)"
   ]
  },
  {
   "cell_type": "code",
   "execution_count": 17,
   "id": "83e1d77e-c2a6-418f-b62c-7ecafb94673e",
   "metadata": {},
   "outputs": [
    {
     "data": {
      "text/plain": [
       "'Time:      7  15   30\\nDistance:  9  40  200'"
      ]
     },
     "execution_count": 17,
     "metadata": {},
     "output_type": "execute_result"
    }
   ],
   "source": [
    "test_data"
   ]
  },
  {
   "cell_type": "code",
   "execution_count": 18,
   "id": "3da54da4-8522-49ea-b5b9-9a05f7665be2",
   "metadata": {},
   "outputs": [
    {
     "name": "stdout",
     "output_type": "stream",
     "text": [
      "71530 940201\n",
      "13.146565527546045 71516.85343447246\n",
      "14 71516\n",
      "71503\n",
      "----\n"
     ]
    },
    {
     "data": {
      "text/plain": [
       "71503"
      ]
     },
     "execution_count": 18,
     "metadata": {},
     "output_type": "execute_result"
    }
   ],
   "source": [
    "winning_options(71530,940200)"
   ]
  },
  {
   "cell_type": "code",
   "execution_count": null,
   "id": "52048256-6ed5-4c1e-b0b0-0190bb010d7c",
   "metadata": {},
   "outputs": [],
   "source": []
  }
 ],
 "metadata": {
  "kernelspec": {
   "display_name": "Python 3 (ipykernel)",
   "language": "python",
   "name": "python3"
  },
  "language_info": {
   "codemirror_mode": {
    "name": "ipython",
    "version": 3
   },
   "file_extension": ".py",
   "mimetype": "text/x-python",
   "name": "python",
   "nbconvert_exporter": "python",
   "pygments_lexer": "ipython3",
   "version": "3.12.0"
  }
 },
 "nbformat": 4,
 "nbformat_minor": 5
}
