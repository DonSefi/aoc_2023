{
 "cells": [
  {
   "cell_type": "code",
   "execution_count": 1,
   "id": "abfb7525-a843-4d69-9579-94ecdce38c62",
   "metadata": {},
   "outputs": [],
   "source": [
    "from aocd import get_data\n",
    "import re"
   ]
  },
  {
   "cell_type": "code",
   "execution_count": 70,
   "id": "7320b6b1-4371-46a8-afb9-f313e41198f2",
   "metadata": {},
   "outputs": [],
   "source": [
    "data= get_data(day=1,year=2023)"
   ]
  },
  {
   "cell_type": "code",
   "execution_count": 57,
   "id": "9006e9fa-f43c-4441-871b-18a204d1efa6",
   "metadata": {},
   "outputs": [],
   "source": [
    "def nums(num):\n",
    "    dig_list=re.findall(\"[0-9]\", num)\n",
    "    if len(dig_list)==0:\n",
    "        raise Exception(\"ALARM\")\n",
    "    if len(dig_list)==1:\n",
    "        return int(dig_list[0]+dig_list[0])\n",
    "    if len(dig_list)==2:\n",
    "        return int(dig_list[0]+dig_list[1])\n",
    "    if len(dig_list)>2:\n",
    "        return int(dig_list[0]+dig_list[-1])    "
   ]
  },
  {
   "cell_type": "code",
   "execution_count": 58,
   "id": "bb9855e0-da0a-45da-88e6-0f0a1c268188",
   "metadata": {},
   "outputs": [],
   "source": [
    "res=[]\n",
    "data_split=data.split(\"\\n\")\n",
    "it=iter(data_split)\n",
    "for i in it:\n",
    "    res.append(nums(i))"
   ]
  },
  {
   "cell_type": "code",
   "execution_count": 59,
   "id": "bd2652ad-98ff-4dfa-af6c-7045e5e29259",
   "metadata": {},
   "outputs": [
    {
     "data": {
      "text/plain": [
       "54877"
      ]
     },
     "execution_count": 59,
     "metadata": {},
     "output_type": "execute_result"
    }
   ],
   "source": [
    "sum(res)"
   ]
  },
  {
   "cell_type": "code",
   "execution_count": 86,
   "id": "2b9746a7-7c51-4cec-be75-a4b78ce920cf",
   "metadata": {},
   "outputs": [],
   "source": [
    "numbers_words=[\"one\",\"two\",\"three\",\"four\",\"five\",\"six\",\"seven\",\"eight\",\"nine\"]\n",
    "numbers_digits=[i for i in range(1,10)]\n",
    "num_dict={w:w+str(d)+w for w,d in zip(numbers_words,numbers_digits)}"
   ]
  },
  {
   "cell_type": "code",
   "execution_count": 87,
   "id": "87dcb3c4-3afe-4739-beb7-17f4bf847bfa",
   "metadata": {},
   "outputs": [
    {
     "data": {
      "text/plain": [
       "{'one': 'one1one',\n",
       " 'two': 'two2two',\n",
       " 'three': 'three3three',\n",
       " 'four': 'four4four',\n",
       " 'five': 'five5five',\n",
       " 'six': 'six6six',\n",
       " 'seven': 'seven7seven',\n",
       " 'eight': 'eight8eight',\n",
       " 'nine': 'nine9nine'}"
      ]
     },
     "execution_count": 87,
     "metadata": {},
     "output_type": "execute_result"
    }
   ],
   "source": [
    "num_dict"
   ]
  },
  {
   "cell_type": "code",
   "execution_count": 88,
   "id": "8dbd307c-53a1-4156-8c3a-af92a44e3fe8",
   "metadata": {},
   "outputs": [],
   "source": [
    "test_data=\"\"\"two1nine\n",
    "eightwothree\n",
    "abcone2threexyz\n",
    "xtwone3four\n",
    "4nineeightseven2\n",
    "zoneight234\n",
    "7pqrstsixteen\"\"\""
   ]
  },
  {
   "cell_type": "code",
   "execution_count": 89,
   "id": "66748668-7efb-4bfd-aed3-9c57924cdeb5",
   "metadata": {},
   "outputs": [
    {
     "data": {
      "text/plain": [
       "'two1nine\\neightwothree\\nabcone2threexyz\\nxtwone3four\\n4nineeightseven2\\nzoneight234\\n7pqrstsixteen'"
      ]
     },
     "execution_count": 89,
     "metadata": {},
     "output_type": "execute_result"
    }
   ],
   "source": [
    "test_data"
   ]
  },
  {
   "cell_type": "code",
   "execution_count": 94,
   "id": "ab58f206-e36d-4005-882a-80a7e9b7d5f2",
   "metadata": {},
   "outputs": [],
   "source": [
    "for old, new in num_dict.items():\n",
    "        data = data.replace(old, new)\n"
   ]
  },
  {
   "cell_type": "code",
   "execution_count": 91,
   "id": "90343796-ba93-4941-9678-de78a606e5ed",
   "metadata": {},
   "outputs": [
    {
     "data": {
      "text/plain": [
       "'two2two1nine9nine\\neight8eightwo2twothree3three\\nabcone1one2three3threexyz\\nxtwo2twone1one3four4four\\n4nine9nineeight8eightseven7seven2\\nzone1oneight8eight234\\n7pqrstsix6sixteen'"
      ]
     },
     "execution_count": 91,
     "metadata": {},
     "output_type": "execute_result"
    }
   ],
   "source": [
    "test_data"
   ]
  },
  {
   "cell_type": "code",
   "execution_count": 95,
   "id": "7ef659b8-6c9c-4584-8fe4-040d29b9014b",
   "metadata": {},
   "outputs": [],
   "source": [
    "res=[]\n",
    "data_split=data.split(\"\\n\")\n",
    "it=iter(data_split)\n",
    "for i in it:\n",
    "    res.append(nums(i))"
   ]
  },
  {
   "cell_type": "code",
   "execution_count": 97,
   "id": "2a9e8aae-db0e-4a86-9b8c-ed2bc9ec8bde",
   "metadata": {},
   "outputs": [
    {
     "data": {
      "text/plain": [
       "54100"
      ]
     },
     "execution_count": 97,
     "metadata": {},
     "output_type": "execute_result"
    }
   ],
   "source": [
    "sum(res)"
   ]
  },
  {
   "cell_type": "code",
   "execution_count": 78,
   "id": "1c1f1d8e-4429-4fde-8ac0-ac76f65e643f",
   "metadata": {},
   "outputs": [
    {
     "data": {
      "text/plain": [
       "54860"
      ]
     },
     "execution_count": 78,
     "metadata": {},
     "output_type": "execute_result"
    }
   ],
   "source": [
    "sum(res)"
   ]
  },
  {
   "cell_type": "code",
   "execution_count": null,
   "id": "3ac43a04-789b-401b-ac99-6f233414dde1",
   "metadata": {},
   "outputs": [],
   "source": []
  }
 ],
 "metadata": {
  "kernelspec": {
   "display_name": "Python 3 (ipykernel)",
   "language": "python",
   "name": "python3"
  },
  "language_info": {
   "codemirror_mode": {
    "name": "ipython",
    "version": 3
   },
   "file_extension": ".py",
   "mimetype": "text/x-python",
   "name": "python",
   "nbconvert_exporter": "python",
   "pygments_lexer": "ipython3",
   "version": "3.12.0"
  }
 },
 "nbformat": 4,
 "nbformat_minor": 5
}
